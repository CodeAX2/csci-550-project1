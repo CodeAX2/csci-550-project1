{
 "cells": [
  {
   "cell_type": "markdown",
   "metadata": {},
   "source": [
    "# Project 1\n",
    "### Jacob Hofer, Flint Morgan TODO: Put your names here\n",
    "---\n",
    "## Loading data\n",
    "Below is the code to load our data from the CSV into a Pandas DataFrame\n",
    "\n",
    "We are dropping the columns including semantic data, such as the product name, since we do not want to attempt to cluster based on those columns.\n",
    "\n",
    "We also drop the GFLOPS columns, as those are specific to GPUs, and we want to include both GPUs and CPUs.\n",
    "\n",
    "Lastly, we drop any rows that have missing data. TODO: Explain why we don't want to simply fill empty values with the mean for the column"
   ]
  },
  {
   "cell_type": "code",
   "execution_count": 26,
   "metadata": {},
   "outputs": [
    {
     "data": {
      "text/html": [
       "<div>\n",
       "<style scoped>\n",
       "    .dataframe tbody tr th:only-of-type {\n",
       "        vertical-align: middle;\n",
       "    }\n",
       "\n",
       "    .dataframe tbody tr th {\n",
       "        vertical-align: top;\n",
       "    }\n",
       "\n",
       "    .dataframe thead th {\n",
       "        text-align: right;\n",
       "    }\n",
       "</style>\n",
       "<table border=\"1\" class=\"dataframe\">\n",
       "  <thead>\n",
       "    <tr style=\"text-align: right;\">\n",
       "      <th></th>\n",
       "      <th>Process Size (nm)</th>\n",
       "      <th>TDP (W)</th>\n",
       "      <th>Die Size (mm^2)</th>\n",
       "      <th>Transistors (million)</th>\n",
       "      <th>Freq (MHz)</th>\n",
       "    </tr>\n",
       "  </thead>\n",
       "  <tbody>\n",
       "    <tr>\n",
       "      <th>0</th>\n",
       "      <td>65.0</td>\n",
       "      <td>45.0</td>\n",
       "      <td>77.0</td>\n",
       "      <td>122.0</td>\n",
       "      <td>2200.0</td>\n",
       "    </tr>\n",
       "    <tr>\n",
       "      <th>1</th>\n",
       "      <td>14.0</td>\n",
       "      <td>35.0</td>\n",
       "      <td>192.0</td>\n",
       "      <td>4800.0</td>\n",
       "      <td>3200.0</td>\n",
       "    </tr>\n",
       "    <tr>\n",
       "      <th>3</th>\n",
       "      <td>22.0</td>\n",
       "      <td>80.0</td>\n",
       "      <td>160.0</td>\n",
       "      <td>1400.0</td>\n",
       "      <td>1800.0</td>\n",
       "    </tr>\n",
       "    <tr>\n",
       "      <th>4</th>\n",
       "      <td>45.0</td>\n",
       "      <td>125.0</td>\n",
       "      <td>258.0</td>\n",
       "      <td>758.0</td>\n",
       "      <td>3700.0</td>\n",
       "    </tr>\n",
       "    <tr>\n",
       "      <th>5</th>\n",
       "      <td>22.0</td>\n",
       "      <td>95.0</td>\n",
       "      <td>160.0</td>\n",
       "      <td>1400.0</td>\n",
       "      <td>2400.0</td>\n",
       "    </tr>\n",
       "    <tr>\n",
       "      <th>...</th>\n",
       "      <td>...</td>\n",
       "      <td>...</td>\n",
       "      <td>...</td>\n",
       "      <td>...</td>\n",
       "      <td>...</td>\n",
       "    </tr>\n",
       "    <tr>\n",
       "      <th>4844</th>\n",
       "      <td>40.0</td>\n",
       "      <td>150.0</td>\n",
       "      <td>334.0</td>\n",
       "      <td>2154.0</td>\n",
       "      <td>700.0</td>\n",
       "    </tr>\n",
       "    <tr>\n",
       "      <th>4845</th>\n",
       "      <td>40.0</td>\n",
       "      <td>20.0</td>\n",
       "      <td>80.0</td>\n",
       "      <td>10.0</td>\n",
       "      <td>416.0</td>\n",
       "    </tr>\n",
       "    <tr>\n",
       "      <th>4846</th>\n",
       "      <td>28.0</td>\n",
       "      <td>21.0</td>\n",
       "      <td>68.0</td>\n",
       "      <td>302.0</td>\n",
       "      <td>550.0</td>\n",
       "    </tr>\n",
       "    <tr>\n",
       "      <th>4849</th>\n",
       "      <td>40.0</td>\n",
       "      <td>75.0</td>\n",
       "      <td>332.0</td>\n",
       "      <td>1950.0</td>\n",
       "      <td>450.0</td>\n",
       "    </tr>\n",
       "    <tr>\n",
       "      <th>4851</th>\n",
       "      <td>40.0</td>\n",
       "      <td>23.0</td>\n",
       "      <td>100.0</td>\n",
       "      <td>486.0</td>\n",
       "      <td>500.0</td>\n",
       "    </tr>\n",
       "  </tbody>\n",
       "</table>\n",
       "<p>3422 rows × 5 columns</p>\n",
       "</div>"
      ],
      "text/plain": [
       "      Process Size (nm)  TDP (W)  Die Size (mm^2)  Transistors (million)  \\\n",
       "0                  65.0     45.0             77.0                  122.0   \n",
       "1                  14.0     35.0            192.0                 4800.0   \n",
       "3                  22.0     80.0            160.0                 1400.0   \n",
       "4                  45.0    125.0            258.0                  758.0   \n",
       "5                  22.0     95.0            160.0                 1400.0   \n",
       "...                 ...      ...              ...                    ...   \n",
       "4844               40.0    150.0            334.0                 2154.0   \n",
       "4845               40.0     20.0             80.0                   10.0   \n",
       "4846               28.0     21.0             68.0                  302.0   \n",
       "4849               40.0     75.0            332.0                 1950.0   \n",
       "4851               40.0     23.0            100.0                  486.0   \n",
       "\n",
       "      Freq (MHz)  \n",
       "0         2200.0  \n",
       "1         3200.0  \n",
       "3         1800.0  \n",
       "4         3700.0  \n",
       "5         2400.0  \n",
       "...          ...  \n",
       "4844       700.0  \n",
       "4845       416.0  \n",
       "4846       550.0  \n",
       "4849       450.0  \n",
       "4851       500.0  \n",
       "\n",
       "[3422 rows x 5 columns]"
      ]
     },
     "metadata": {},
     "output_type": "display_data"
    }
   ],
   "source": [
    "import pandas as pd\n",
    "df = pd.read_csv(\"chip_dataset.csv\")\n",
    "\n",
    "Type = df['Type']\n",
    "# Drop semantic data\n",
    "df.pop(\"Unnamed: 0\");df.pop(\"Type\");df.pop(\"Foundry\");df.pop(\"Vendor\");df.pop(\"Product\");df.pop(\"Release Date\")\n",
    "# GFLOPS are specific to GPUs, so we exclude them here so we can also look at CPUs\n",
    "df.pop(\"FP16 GFLOPS\");df.pop(\"FP32 GFLOPS\");df.pop(\"FP64 GFLOPS\")\n",
    "df = df.dropna()\n",
    "display(df)"
   ]
  },
  {
   "cell_type": "markdown",
   "metadata": {},
   "source": [
    "## K-Means Clustering\n",
    "### Computing the Clusters\n",
    "The code below computes clusters in the data using our custom K-Means Clustering algorithm.\n",
    "\n",
    "We found that a good number of clusters is 3, as any higher K value tended to produce clusters containing a very low number of points.\n",
    "\n",
    "Our $\\epsilon$ value was also chosen to be 0.001, which dictates the threshold of centroid change that denotes the algorithm should terminate.\n",
    "\n",
    "The code that performs K-Means Clustering is available in `kmeans.py`."
   ]
  },
  {
   "cell_type": "code",
   "execution_count": 52,
   "metadata": {},
   "outputs": [
    {
     "name": "stdout",
     "output_type": "stream",
     "text": [
      "Cluster 0 Centroid: [9.65573770e+00 2.46393443e+02 6.36672131e+02 2.54393443e+04\n",
      " 1.40159016e+03]\n",
      "Cluster 1 Centroid: [  15.725       148.31538462  295.26153846 6779.20769231 1531.84423077]\n",
      "Cluster 2 Centroid: [  60.81168603   68.42907427  173.19253784  818.65857093 1505.87785991]\n"
     ]
    }
   ],
   "source": [
    "import kmeans\n",
    "\n",
    "k = 3\n",
    "\n",
    "(centroids, assignments) = kmeans.kMeans(df, k, 0.001);\n",
    "for i, centroid in enumerate(centroids):\n",
    "    print(\"Cluster\", i, \"Centroid:\", centroid)"
   ]
  },
  {
   "cell_type": "markdown",
   "metadata": {},
   "source": [
    "### Plotting the Clusters\n",
    "Below is an example plot of our clustering. The colors of each point correspond to their assigned cluster.\n",
    "\n",
    "Cluster centroids are denoted by the larger black points.\n",
    "\n",
    "Changing the `xAxis` and `yAxis` values to any integer between 0 and 4 will change which two features are compared."
   ]
  },
  {
   "cell_type": "code",
   "execution_count": 49,
   "metadata": {},
   "outputs": [
    {
     "data": {
      "image/png": "[encoded data removed]",
      "text/plain": [
       "<Figure size 640x480 with 1 Axes>"
      ]
     },
     "metadata": {},
     "output_type": "display_data"
    }
   ],
   "source": [
    "import matplotlib.pyplot as plt\n",
    "\n",
    "xAxis = 0\n",
    "yAxis = 3\n",
    "\n",
    "plt.scatter(df.values[:,xAxis], df.values[:,yAxis], c=assignments, s=5)\n",
    "plt.scatter(centroids[:,xAxis], centroids[:,yAxis], c='black', s=50)\n",
    "plt.xlabel(df.columns[xAxis])\n",
    "plt.ylabel(df.columns[yAxis]);"
   ]
  }
 ],
 "metadata": {
  "kernelspec": {
   "display_name": "Python 3 (ipykernel)",
   "language": "python",
   "name": "python3"
  },
  "language_info": {
   "codemirror_mode": {
    "name": "ipython",
    "version": 3
   },
   "file_extension": ".py",
   "mimetype": "text/x-python",
   "name": "python",
   "nbconvert_exporter": "python",
   "pygments_lexer": "ipython3",
   "version": "3.9.13"
  }
 },
 "nbformat": 4,
 "nbformat_minor": 4
}
